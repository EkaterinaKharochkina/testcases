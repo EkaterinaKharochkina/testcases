{
 "cells": [
  {
   "cell_type": "markdown",
   "metadata": {},
   "source": [
    "\n",
    "# Содержание\n",
    "\n",
    "1. [Успешность прототипа](#Успешность-прототипа)\n",
    "2. [Сравнение групп платящих игроков](#Сравнение-групп-платящих-игроков)\n",
    "3. [Предсказание оттока](#Предсказание-оттока)\n",
    "4. [Эффективность рекламных кампаний](#Эффективность-рекламных-кампаний)\n",
    "5. [Связь рекламного трафика и органического](#Связь-рекламного-трафика-и-органического)\n"
   ]
  },
  {
   "cell_type": "markdown",
   "metadata": {},
   "source": [
    "# Успешность прототипа\n",
    "**Известно что компания конкурент выпустила 1000 прототипов игр, из которых было 5 успешных. Наша компания выпустила 200 прототипов из которых ни один не был успешен.\n",
    "Какова вероятность что следующий (201й) наш прототип будет успешен? Решите задачу классическим и баесовским подходами.**\n"
   ]
  },
  {
   "cell_type": "markdown",
   "metadata": {},
   "source": [
    "**Решение**\n",
    "\n",
    "Пусть $k$ - число успешных прототипов, а $n$ - общее число прототипов"
   ]
  },
  {
   "cell_type": "markdown",
   "metadata": {},
   "source": [
    "**Классический подход**\n",
    "\n",
    "По классическому определению вероятности ($P = k / n$) вероятность успеха у компании-конкурента: $P = 5/1000 = 0.005$. Если предположить, что вероятность успеха для нашей компании такая же, как и для конкурента (0.005), то вероятность того, что 201-й прототип будет успешен будет равна 0.005"
   ]
  },
  {
   "cell_type": "markdown",
   "metadata": {},
   "source": [
    "**Байесовский подход**\n",
    "\n",
    "Будем использовать бета-распределение. Мы уже знаем, что у компании-конкурента 5 успешных игр из 1000. Используем эти параметры: Beta(5,995) распределение - априорное с параметрами $α_p = 5$ - число успехов и $β_p = 995$ - число провалов. Рассчитаем параметры для апостериорного распределения: \n",
    "\n",
    "$α = α_p + k = 5 + 0 = 5$, \n",
    "\n",
    "$β = β_p + n - k = 995 + 200 - 0 = 1195$\n",
    "\n",
    "Найдем вероятность следующего успеха как $P = \\frac{α}{(α + β)}$\n",
    "\n",
    "$P = \\frac{α}{(α + β)} = \\frac{5} {(5 + 1195)} = 0.00417$\n"
   ]
  },
  {
   "cell_type": "markdown",
   "metadata": {},
   "source": [
    "# Сравнение групп платящих игроков\n",
    "В мобильной игре около 10% игроков совершает платежи в первый месяц с момента установки игры (база расчета - 500 игроков). \n",
    "Геймдизайнеры разработали обновление которое по их экспертной оценке должно увеличить процент плательщиков с 10% до 11%. Цель эксперимента - подтвердить или опровергнуть их гипотезу.\n",
    "Геймдизайнеры разработали обновление которое по их экспертной оценке должно увеличить процент плательщиков с 10% до 11%. Цель эксперимента - подтвердить или опровергнуть их гипотезу.\n",
    "\n",
    "    1.\tОпишите оптимальный по вашему мнению дизайн эксперимента\n",
    "    2.\tРассчитайте длительность эксперимента при условии что каждый день в игру приходит около 100 новых игроков.\n",
    "    3.\tСамостоятельно сгенерируйте датасет с около 10% плательщиков (контроль) и рассчитайте 95% HDI / CI.\n",
    "    4.\tСгенерируйте несколько вариантов экспериментальной группы (хуже, лучше, без эффекта), рассчитайте силу эффекта, HDI / CI и ваши выводы для каждого варианта.\n",
    "    5.\tРешите задачу 2 разными подходами: frequentist / bayesian\n",
    "Необходимо все ответы сопроводить комментариями почему вы выбрали ту или иную методику расчета, алгоритм и т.д.\n"
   ]
  },
  {
   "cell_type": "markdown",
   "metadata": {},
   "source": [
    "**Решение**\n"
   ]
  },
  {
   "cell_type": "markdown",
   "metadata": {},
   "source": [
    "**1. Дизайн эксперимента**\n",
    "\n",
    "Сформулируем гипотезы: \n",
    "\n",
    "Нулевая гипотеза (H0): Процент плательщиков остается 10%.\n",
    "\n",
    "Альтернативная гипотеза (H1): Процент плательщиков увеличивается до 11%.\n"
   ]
  },
  {
   "cell_type": "markdown",
   "metadata": {},
   "source": [
    "Рандомизация: Новые игроки (по 100 новых игроков в день) будут случайным образом распределены на контрольную группу (без обновления) и экспериментальную группу (с обновлением). Можно придерживаться соотношения 1:1 (50% на 50%), если нет специальных ограничений, это обеспечит максимальную статистическую мощность. "
   ]
  },
  {
   "cell_type": "markdown",
   "metadata": {},
   "source": [
    "Нужно заранее определить продолжительность эксперимента (будет рассчитана далее).\n",
    "\n",
    "Нужно определить целевую метрику, за которой будем следить: в нашей задаче это процент платящих игроков в течение первого месяца. Также можно отслеживать и дополнительные метрики: ARPU, удержание, среднее количество покупок на одного платящего. Можно также определить барьерную метрику, которая не должна упасть (маржа, например)"
   ]
  },
  {
   "cell_type": "markdown",
   "metadata": {},
   "source": [
    "**2. Длительность эксперимента**\n",
    "\n",
    "Определим мощность как 80% и уровень значимости как 5%. Рассчитаем размер каждой выборки"
   ]
  },
  {
   "cell_type": "code",
   "execution_count": 1,
   "metadata": {},
   "outputs": [
    {
     "name": "stdout",
     "output_type": "stream",
     "text": [
      "В каждой выборке 14744 человек, всего 29488 человек\n"
     ]
    }
   ],
   "source": [
    "import warnings\n",
    "warnings.filterwarnings('ignore')\n",
    "import statsmodels.stats.api as sms\n",
    "es = sms.proportion_effectsize(0.10, 0.11)\n",
    "size = sms.NormalIndPower().solve_power(es, power=0.80, alpha=0.05, ratio=1)\n",
    "print(f'В каждой выборке {size:.0f} человек, всего {size*2:.0f} человек')\n"
   ]
  },
  {
   "cell_type": "markdown",
   "metadata": {},
   "source": [
    "В игру ежедневно приходит около 100 новых игроков, значит потребуется 295 дней."
   ]
  },
  {
   "cell_type": "markdown",
   "metadata": {},
   "source": [
    "**3. Расчет 95% HDI/CI для контроля**\n"
   ]
  },
  {
   "cell_type": "markdown",
   "metadata": {},
   "source": [
    "Сгенерируем данные"
   ]
  },
  {
   "cell_type": "code",
   "execution_count": 2,
   "metadata": {},
   "outputs": [],
   "source": [
    "import numpy as np\n",
    "import pandas as pd\n",
    "from scipy.stats import norm, beta\n",
    "from statsmodels.stats.proportion import proportions_ztest\n",
    "\n",
    "np.random.seed(0)\n",
    "\n",
    "control_data = np.random.binomial(1, 0.10, 500)\n",
    "control_df = pd.DataFrame({'group': 'control', 'payment': control_data})"
   ]
  },
  {
   "cell_type": "code",
   "execution_count": 3,
   "metadata": {},
   "outputs": [],
   "source": [
    "def calculate_metrics(data, confidence=0.95):\n",
    "    \"\"\"\n",
    "    Рассчитывает 95% HDI/CI для заданных данных.\n",
    "    \n",
    "    :param data: numpy array или pandas Series с данными (0 или 1, где 1 - успех)\n",
    "    :param confidence: доверительный интервал, по умолчанию 0.95\n",
    "    :return: словарь с рассчитанными метриками\n",
    "    \"\"\"\n",
    "    # Пропорция\n",
    "    successes = data.sum()\n",
    "    total = len(data)\n",
    "    proportion = successes / total\n",
    "    \n",
    "    # Частотный подход\n",
    "    std_error = np.sqrt(proportion * (1 - proportion) / total)\n",
    "    ci_lower, ci_upper = norm.interval(confidence, loc=proportion, scale=std_error)\n",
    "    \n",
    "    # Байесовский подход\n",
    "    alpha_param = successes + 1\n",
    "    beta_param = total - successes + 1\n",
    "    posterior = beta(alpha_param, beta_param)\n",
    "    hdi_lower, hdi_upper = posterior.interval(0.95)\n",
    "        \n",
    "    return {\n",
    "        'proportion': proportion,\n",
    "        'ci_lower': ci_lower,\n",
    "        'ci_upper': ci_upper,\n",
    "        'hdi_lower': hdi_lower,\n",
    "        'hdi_upper': hdi_upper,\n",
    "        'successes': successes,\n",
    "        'total': total\n",
    "    }\n"
   ]
  },
  {
   "cell_type": "code",
   "execution_count": 4,
   "metadata": {},
   "outputs": [
    {
     "name": "stdout",
     "output_type": "stream",
     "text": [
      "Контроль - Пропорция: 0.1140\n",
      "Контроль - 95% CI: (0.0861, 0.1419)\n",
      "Контроль - 95% HDI: (0.0891, 0.1449)\n"
     ]
    }
   ],
   "source": [
    "control_metrics = calculate_metrics(control_df['payment'])\n",
    "group = 'Контроль'\n",
    "print(f\"{group} - Пропорция: {control_metrics['proportion']:.4f}\")\n",
    "print(f\"{group} - 95% CI: ({control_metrics['ci_lower']:.4f}, {control_metrics['ci_upper']:.4f})\")\n",
    "print(f\"{group} - 95% HDI: ({control_metrics['hdi_lower']:.4f}, {control_metrics['hdi_upper']:.4f})\")"
   ]
  },
  {
   "cell_type": "markdown",
   "metadata": {},
   "source": [
    "**4. Расчет 95% HDI/CI для экспериментальных групп**"
   ]
  },
  {
   "cell_type": "markdown",
   "metadata": {},
   "source": [
    "Сгенерируем данные"
   ]
  },
  {
   "cell_type": "code",
   "execution_count": 5,
   "metadata": {},
   "outputs": [],
   "source": [
    "experiment_data_no_effect = np.random.binomial(1, 0.10, 500)\n",
    "experiment_data_better = np.random.binomial(1, 0.11, 500)\n",
    "experiment_data_worse = np.random.binomial(1, 0.09, 500)\n",
    "\n",
    "experiment_df_no_effect = pd.DataFrame({'group': 'experiment_no_effect', 'payment': experiment_data_no_effect})\n",
    "experiment_df_better = pd.DataFrame({'group': 'experiment_better', 'payment': experiment_data_better})\n",
    "experiment_df_worse = pd.DataFrame({'group': 'experiment_worse', 'payment': experiment_data_worse})\n",
    "\n",
    "experiment_df = pd.concat([experiment_df_no_effect, experiment_df_better, experiment_df_worse])"
   ]
  },
  {
   "cell_type": "markdown",
   "metadata": {},
   "source": [
    "И выведем метрики"
   ]
  },
  {
   "cell_type": "code",
   "execution_count": 6,
   "metadata": {},
   "outputs": [
    {
     "name": "stdout",
     "output_type": "stream",
     "text": [
      "experiment_better - Пропорция: 0.1400\n",
      "experiment_better - 95% CI: (0.1096, 0.1704)\n",
      "experiment_better - 95% HDI: (0.1124, 0.1732)\n",
      "\n",
      "experiment_no_effect - Пропорция: 0.1020\n",
      "experiment_no_effect - 95% CI: (0.0755, 0.1285)\n",
      "experiment_no_effect - 95% HDI: (0.0785, 0.1317)\n",
      "\n",
      "experiment_worse - Пропорция: 0.0940\n",
      "experiment_worse - 95% CI: (0.0684, 0.1196)\n",
      "experiment_worse - 95% HDI: (0.0715, 0.1228)\n",
      "\n"
     ]
    }
   ],
   "source": [
    "groups = experiment_df.groupby('group')['payment']\n",
    "for group, data in groups:\n",
    "    metrics = calculate_metrics(data)\n",
    "    print(f\"{group} - Пропорция: {metrics['proportion']:.4f}\")\n",
    "    print(f\"{group} - 95% CI: ({metrics['ci_lower']:.4f}, {metrics['ci_upper']:.4f})\")\n",
    "    print(f\"{group} - 95% HDI: ({metrics['hdi_lower']:.4f}, {metrics['hdi_upper']:.4f})\")\n",
    "    print()"
   ]
  },
  {
   "cell_type": "markdown",
   "metadata": {},
   "source": [
    "**Выводы**"
   ]
  },
  {
   "cell_type": "markdown",
   "metadata": {},
   "source": [
    "- Контрольная группа и экспериментальная группа без эффекта: Как 95% CI, так и 95% HDI перекрываются\n",
    "\n",
    "- Экспериментальная группа с улучшением: Как 95% CI, так и 95% HDI смещены вверх по сравнению с контрольной группой\n",
    "\n",
    "- Экспериментальная группа с ухудшением: Как 95% CI, так и 95% HDI смещены вниз по сравнению с контрольной группой"
   ]
  },
  {
   "cell_type": "markdown",
   "metadata": {},
   "source": [
    "**Сила эффекта**"
   ]
  },
  {
   "cell_type": "markdown",
   "metadata": {},
   "source": [
    "Проведем z-тест. Z-тест является одним из наиболее распространенных методов для сравнения пропорций между двумя группами (контрольной и экспериментальной). Он чувствителен к размеру выборки, но во всех наших группах по 500 человек, поэтому пробуем.\n"
   ]
  },
  {
   "cell_type": "markdown",
   "metadata": {},
   "source": [
    "- Нулевая гипотеза: Пропорции платящих игроков в контрольной и экспериментальной группе одинаковы.\n",
    "- Альтернативная гипотеза: Пропорции платящих игроков в контрольной и экспериментальной группе различаются."
   ]
  },
  {
   "cell_type": "code",
   "execution_count": 7,
   "metadata": {},
   "outputs": [],
   "source": [
    "def z_test_proportions(control_metrics, exp_metrics):\n",
    "    \"\"\"\n",
    "    Проводит Z-тест для пропорций между контрольной и экспериментальной группами.\n",
    "    \n",
    "    :param control_metrics: Словарь с метриками контрольной группы\n",
    "    :param exp_metrics: Словарь с метриками экспериментальной группы\n",
    "    :return: Словарь с результатами Z-теста\n",
    "    \"\"\"\n",
    "    count = np.array([exp_metrics['successes'], control_metrics['successes']])\n",
    "    nobs = np.array([exp_metrics['total'], control_metrics['total']])\n",
    "    stat, p_value = proportions_ztest(count, nobs, alternative = 'larger')\n",
    "    \n",
    "    return {\n",
    "        'z_stat': stat,\n",
    "        'p_value': p_value\n",
    "    }"
   ]
  },
  {
   "cell_type": "code",
   "execution_count": 8,
   "metadata": {},
   "outputs": [
    {
     "name": "stdout",
     "output_type": "stream",
     "text": [
      "experiment_better - Z-тест: статистика = 1.2346, p-значение = 0.1085\n",
      "\n",
      "experiment_no_effect - Z-тест: статистика = -0.6113, p-значение = 0.7295\n",
      "\n",
      "experiment_worse - Z-тест: статистика = -1.0359, p-значение = 0.8499\n",
      "\n"
     ]
    }
   ],
   "source": [
    "groups = experiment_df.groupby('group')['payment']\n",
    "for group, data in groups:\n",
    "    metrics = calculate_metrics(data)\n",
    "    test_results_no_effect = z_test_proportions(control_metrics, metrics)\n",
    "    stat = test_results_no_effect['z_stat']\n",
    "    p_value = test_results_no_effect['p_value']\n",
    "    print(f\"{group} - Z-тест: статистика = {stat:.4f}, p-значение = {p_value:.4f}\")\n",
    "    print()"
   ]
  },
  {
   "cell_type": "markdown",
   "metadata": {},
   "source": [
    "**Выводы**"
   ]
  },
  {
   "cell_type": "markdown",
   "metadata": {},
   "source": [
    "Как и предполагалось, на 1000 игроках выявить такое различие трудно. Для всех экспериментальных групп p-значение больше уровня значимости 0.05, а значит, нет оснований утверждать, что пропорции платящих игроков в контрольной и экспериментальной группе различаются."
   ]
  },
  {
   "cell_type": "markdown",
   "metadata": {},
   "source": [
    "**Дополнительно**"
   ]
  },
  {
   "cell_type": "markdown",
   "metadata": {},
   "source": [
    "Для мобильной игры 295 дней очень большой срок, некоторые игры вообще столько не живут. Кроме того, в формулировке вопроса написано 'около 10% игроков', то есть значение неточное. Возможно, эффект есть, но нам не хватает мощности его увидеть. Сравним worse-группу с better"
   ]
  },
  {
   "cell_type": "code",
   "execution_count": 9,
   "metadata": {},
   "outputs": [
    {
     "name": "stdout",
     "output_type": "stream",
     "text": [
      "Z-тест: статистика = 2.2628, p-значение = 0.0118\n"
     ]
    }
   ],
   "source": [
    "exp_worse_metrics = calculate_metrics(experiment_df_worse['payment'])\n",
    "exp_better_metrics = calculate_metrics(experiment_df_better['payment'])\n",
    "test_results_better = z_test_proportions(exp_worse_metrics, exp_better_metrics)\n",
    "print(f\"Z-тест: статистика = {test_results_better['z_stat']:.4f}, p-значение = {test_results_better['p_value']:.4f}\")"
   ]
  },
  {
   "cell_type": "markdown",
   "metadata": {},
   "source": [
    "Здесь уже p-значение ниже 0.05. Лучше перед проведением теста уточнить процент платящих пользователей (посчитать на большей базе, если есть возможность) и если оно будет ближе к 9%, то есть к worse-группе, то длительность эксперимента можно снизить. Важно сделать все расчеты до начала самого эксперимента"
   ]
  },
  {
   "cell_type": "markdown",
   "metadata": {},
   "source": [
    "# Предсказание оттока\n",
    "В мобильной игре, после установки и запуска игры начинается туториал - игрок проходит обучение игре, которое состоит из нескольких последовательных шагов. \n",
    "Данные представляют собой набор строк - уникальный id игрока, datetime и номер шага туториала который пройден игроком.\n",
    "Геймдизайнеры выдвинули гипотезу - если мы с высокой вероятностью сможем предсказать шаг на котором игрок уйдет из игры заранее, то запустив альтернативное продолжение туториала с этого шага мы избежим оттока и увеличим прохождение туториала.\n",
    "1.\tКак бы вы решали задачу предсказания отвала игрока?\n",
    "2.\tКак оценить качество полученной модели? Опишите методы которые знаете и какой считаете оптимальным и почему.\n",
    "3.\tПредположим что вы разработали модель которая с достаточной вероятностью предсказывает отвал. Опишите дизайн эксперимента и методологию по проверке гипотезы геймдизайнеров\n"
   ]
  },
  {
   "cell_type": "markdown",
   "metadata": {},
   "source": [
    "**Решение**\n"
   ]
  },
  {
   "cell_type": "markdown",
   "metadata": {},
   "source": [
    "1. Считаем, что данные предобработаны. Шаги в туториале последовательные, значит, будем считать, что максимальный шаг туториала соответствует максимальному datetime. Предсказание отвала - задача классификации. Создадим таргетный столбец. Определим целевую переменную как бинарный столбец, где 0 обозначает, что игрок завершил шаг (шаг не максимальный для этого id), а 1 - что он отвалился (шаг максимальный для этого id). Нужно также знать общее количество шагов, поскольку если максимальный шаг - заключительный, то игрок не отвалился, а благополучно завершил туториал. Скорее всего, получим дисбаланс классов, это нужно будет учесть в параметрах модели. Также нужно создать новые признаки, например, продолжительность времени на каждом шаге. Поскольку признаков мало, то лучше использовать простые модели, например, логистическую регрессию, дерево решений, случайный лес. Можно попробовать подобрать гиперпараметры разных моделей и посмотреть на метрику на валидации. Затем проверить лучшую модель на тесте."
   ]
  },
  {
   "cell_type": "markdown",
   "metadata": {},
   "source": [
    "2. Можно выводить сразу несколько метрик, но особое внимание я бы обращала на F1. F1 объединяет точность и полноту, подходит для несбалансированных классов. Кроме того, можно использовать кросс-валидацию и определять среднюю метрику по группам"
   ]
  },
  {
   "cell_type": "markdown",
   "metadata": {},
   "source": [
    "3. Цель: определить, увеличивает ли альтернативное продолжение процент прохождения туториала. Сформулируем гипотезы: \n",
    "\n",
    "    Нулевая гипотеза (H0): Процент прохождения туториала остается неизменным. \n",
    "\n",
    "    Альтернативная гипотеза (H1): Процент прохождения туториала увеличивается.\n",
    "\n",
    "    Рандомизация: Игроки случайным образом будут распределены на контрольную группу (без обновления) и экспериментальную группу (с обновлением). Можно придерживаться соотношения 1:1 (50% на 50%), если нет специальных ограничений, это обеспечит максимальную статистическую мощность.\n",
    "\n",
    "    Нужно заранее определить продолжительность эксперимента.\n",
    "\n",
    "    Нужно определить целевую метрику, за которой будем следить: в нашей задаче это процент прохождения туториала. Также можно следить за временем прохождения туториала, средним временем на шаг. \n",
    "    \n",
    "    Для оценки значимости различий между группами можно использовать Z-тест или Т-тест. "
   ]
  },
  {
   "cell_type": "markdown",
   "metadata": {},
   "source": [
    "# Эффективность рекламных кампаний\n",
    "Отдел маркетинга оперирует некоторым множеством рекламных кампаний. Первая часть оперирования состоит из запуска тестовых рекламных кампаний, у которых есть требования по KPI при достижении которых тест считается успешным.\n",
    "Успешные тесты переходят в разряд постоянных кампаний и вторая часть оперирования состоит из мониторинга постоянных кампаний - управление бюджетом кампании (COST) и мониторинг ее доходов (REVENUE), а так же соотношением доходов к расходам.\n",
    "Главный KPI для постоянных рекламных кампаний - ROAS на 60й день, т.е. какой процент от расходов кампания возвращает на 60й день.\n",
    "Для выполнения задачи необходимо использовать тестовый датасет (2 таблицы по расходам и доходам).\n",
    "1.\tОтдел маркетинга руководствуется гипотезой - чем больший COST расходуется на кампанию тем ниже ROAS 60го дня (рост CPI при увеличении объёма закупки при сохранении того же LTV 60го дня). На основании данных подтвердите или опровергните эту гипотезу. Исходите из того что мы точно знаем что CPI зависит от объема нелинейно, вопрос в том как эту зависимость описать и учесть во 2м вопросе.\n",
    "2.\tПо каждой рекламной кампании рассчитайте суточный рекламный бюджет который максимизирует абсолютную маркетинговую прибыль рекламной кампании (REVENUE 60 дня минус COST).\n",
    "3.\tИсходя из пункта 2 по каждой рекламной кампании дайте ваше заключение о том насколько нужно увеличить / уменьшить ее суточный бюджет либо вообще остановить.\n",
    "4.\tРешите проблему рекламных кампаний по которым еще нет полных 60 дней. Объясните почему ваше решение оптимально\n"
   ]
  },
  {
   "cell_type": "markdown",
   "metadata": {},
   "source": [
    "**Решение**\n"
   ]
  },
  {
   "cell_type": "markdown",
   "metadata": {},
   "source": [
    "Загрузим таблицы и посмотрим на них"
   ]
  },
  {
   "cell_type": "code",
   "execution_count": 10,
   "metadata": {},
   "outputs": [
    {
     "name": "stdout",
     "output_type": "stream",
     "text": [
      "Таблицы в базе данных:\n",
      "source_comparison\n",
      "costs\n",
      "revenue\n",
      "\n",
      "Содержимое таблицы source_comparison:\n",
      "Install_Dates | source_type | Country | installs\n",
      "2020-05-18 | Paid | PY | 4.0\n",
      "2020-04-14 | Paid | FR | 35.0\n",
      "2020-04-30 | Paid | JP | 25.0\n",
      "2020-03-20 | Paid | DE | 11.0\n",
      "2020-04-30 | Paid | IT | 8.0\n",
      "2020-05-17 | Paid | KE | 2.0\n",
      "2020-04-06 | Paid | NZ | 19.0\n",
      "2020-03-21 | Organic | EG | 24.0\n",
      "2020-04-28 | Paid | UA | 826.0\n",
      "2020-04-24 | Paid | IR | 9.0\n",
      "\n",
      "Содержимое таблицы costs:\n",
      "Install_Dates | campaign_id | Country | installs | spends\n",
      "2020-04-14 | 90570 | CZ | 35.0 | 19.79\n",
      "2020-04-28 | 90619 | AT | 5.0 | 4.99\n",
      "2020-05-10 | 794235 | PK | 79.0 | 0.4\n",
      "2020-05-07 | 91872 | FR | 12.0 | 9.56\n",
      "2020-04-03 | 19115 | JP | 6.0 | 3.39\n",
      "2020-03-27 | 19115 | UA | 221.0 | 38.84\n",
      "2020-05-14 | 19115 | HK | 1.0 | 0.11\n",
      "2020-05-04 | 794235 | LA | 7.0 | 0.04\n",
      "2020-05-05 | 794235 | BD | 41.0 | 0.2\n",
      "2020-04-13 | 790424 | RU | 181.0 | 43.19\n",
      "\n",
      "Содержимое таблицы revenue:\n",
      "Install_Dates | campaign_id | Country | 1d_LTV | 3d_LTV | 7d_LTV | 14d_LTV | 30d_LTV | 60d_LTV\n",
      "2020-04-14 | 90570 | CZ | 7.721194000000001 | 8.10481071472168 | 10.20948 | 11.8452 | 15.349594 | 15.768420219421388\n",
      "2020-03-30 | 90262 | CA | 1.4243629999999998 | 1.7247380018234253 | 1.724738 | 1.724738 | 1.724738 | 1.999413013458252\n",
      "2020-04-02 | 19115 | PL | 26.91200642276423 | 32.943050384521484 | 66.78749684552847 | 70.07192184552846 | 71.64402284552845 | 72.05702590942383\n",
      "2020-04-15 | 788948 | MD | 0.0 | 0.0 | 0.0 | 0.0 | 0.0 | 0.0\n",
      "2020-03-26 | 158583 | DE | 0.349793 | 0.3497929871082306 | 0.349793 | 0.349793 | 0.349793 | 0.3497929871082306\n",
      "2020-04-28 | 90619 | AT | 1.032342 | 1.0323419570922852 | 1.248888 | 1.501317 | 1.761729 | -1.0\n",
      "2020-05-10 | 794235 | PK | 0.2125 | 0.2546199858188629 | 0.390186 | 0.519535 | 0.652006 | -1.0\n",
      "2020-04-22 | 22083 | JP | 0.0 | 0.0 | 0.0 | 0.0 | 0.0 | -1.0\n",
      "2020-05-07 | 91872 | FR | 4.66139 | 4.787784099578857 | 6.422362 | 6.596973 | 6.596973 | -1.0\n",
      "2020-04-26 | 90133 | BY | 1.524119 | 1.814465045928955 | 2.537125 | 2.747181 | 3.420379 | -1.0\n"
     ]
    }
   ],
   "source": [
    "import zipfile\n",
    "import sqlite3\n",
    "\n",
    "# Пути\n",
    "zip_path = 'testcase.db.zip'\n",
    "extracted_path = 'testcase.db'\n",
    "\n",
    "# Извлечение файла из ZIP-архива\n",
    "with zipfile.ZipFile(zip_path, 'r') as zip_ref:\n",
    "    zip_ref.extract(extracted_path)\n",
    "\n",
    "# Подключение к базе данных SQLite\n",
    "conn = sqlite3.connect(extracted_path)\n",
    "cursor = conn.cursor()\n",
    "cursor.execute(\"SELECT name FROM sqlite_master WHERE type='table';\")\n",
    "tables = cursor.fetchall()\n",
    "\n",
    "source_comparison = pd.read_sql_query('SELECT * FROM source_comparison', conn)\n",
    "costs = pd.read_sql_query('SELECT * FROM costs', conn)\n",
    "revenue = pd.read_sql_query('SELECT * FROM revenue', conn)\n",
    "\n",
    "# Печать списка таблиц\n",
    "print(\"Таблицы в базе данных:\")\n",
    "for table in tables:\n",
    "    print(table[0])\n",
    "\n",
    "# Печать первых 10 строк из каждой таблицы вместе с названиями колонок\n",
    "for table in tables:\n",
    "    table_name = table[0]\n",
    "    print(f\"\\nСодержимое таблицы {table_name}:\")\n",
    "\n",
    "    cursor.execute(f\"PRAGMA table_info({table_name});\")\n",
    "    columns_info = cursor.fetchall()\n",
    "    column_names = [col[1] for col in columns_info]\n",
    "    print(\" | \".join(column_names))\n",
    "\n",
    "    cursor.execute(f\"SELECT * FROM {table_name} LIMIT 10;\")\n",
    "    rows = cursor.fetchall()\n",
    "    for row in rows:\n",
    "        print(\" | \".join(str(cell) for cell in row))\n",
    "\n",
    "conn.close()\n"
   ]
  },
  {
   "cell_type": "markdown",
   "metadata": {},
   "source": [
    "Агрегируем данные. Рассчитаем ROAS_60d и marketing_profit"
   ]
  },
  {
   "cell_type": "code",
   "execution_count": 11,
   "metadata": {},
   "outputs": [
    {
     "data": {
      "text/html": [
       "<div>\n",
       "<style scoped>\n",
       "    .dataframe tbody tr th:only-of-type {\n",
       "        vertical-align: middle;\n",
       "    }\n",
       "\n",
       "    .dataframe tbody tr th {\n",
       "        vertical-align: top;\n",
       "    }\n",
       "\n",
       "    .dataframe thead th {\n",
       "        text-align: right;\n",
       "    }\n",
       "</style>\n",
       "<table border=\"1\" class=\"dataframe\">\n",
       "  <thead>\n",
       "    <tr style=\"text-align: right;\">\n",
       "      <th></th>\n",
       "      <th>campaign_id</th>\n",
       "      <th>installs</th>\n",
       "      <th>days</th>\n",
       "      <th>total_spends</th>\n",
       "      <th>total_revenue_60d</th>\n",
       "      <th>ROAS_60d</th>\n",
       "      <th>marketing_profit</th>\n",
       "    </tr>\n",
       "  </thead>\n",
       "  <tbody>\n",
       "    <tr>\n",
       "      <th>0</th>\n",
       "      <td>19115</td>\n",
       "      <td>89015.0</td>\n",
       "      <td>1645</td>\n",
       "      <td>30161.4300</td>\n",
       "      <td>23726.583781</td>\n",
       "      <td>0.786653</td>\n",
       "      <td>-6434.846219</td>\n",
       "    </tr>\n",
       "    <tr>\n",
       "      <th>1</th>\n",
       "      <td>22083</td>\n",
       "      <td>9187.0</td>\n",
       "      <td>578</td>\n",
       "      <td>9479.7572</td>\n",
       "      <td>619.413547</td>\n",
       "      <td>0.065341</td>\n",
       "      <td>-8860.343653</td>\n",
       "    </tr>\n",
       "    <tr>\n",
       "      <th>2</th>\n",
       "      <td>89897</td>\n",
       "      <td>103.0</td>\n",
       "      <td>10</td>\n",
       "      <td>194.9200</td>\n",
       "      <td>103.672651</td>\n",
       "      <td>0.531873</td>\n",
       "      <td>-91.247349</td>\n",
       "    </tr>\n",
       "    <tr>\n",
       "      <th>3</th>\n",
       "      <td>89917</td>\n",
       "      <td>296.0</td>\n",
       "      <td>38</td>\n",
       "      <td>617.7400</td>\n",
       "      <td>39.448237</td>\n",
       "      <td>0.063859</td>\n",
       "      <td>-578.291763</td>\n",
       "    </tr>\n",
       "    <tr>\n",
       "      <th>4</th>\n",
       "      <td>89985</td>\n",
       "      <td>164.0</td>\n",
       "      <td>12</td>\n",
       "      <td>155.3500</td>\n",
       "      <td>163.865598</td>\n",
       "      <td>1.054816</td>\n",
       "      <td>8.515598</td>\n",
       "    </tr>\n",
       "    <tr>\n",
       "      <th>...</th>\n",
       "      <td>...</td>\n",
       "      <td>...</td>\n",
       "      <td>...</td>\n",
       "      <td>...</td>\n",
       "      <td>...</td>\n",
       "      <td>...</td>\n",
       "      <td>...</td>\n",
       "    </tr>\n",
       "    <tr>\n",
       "      <th>224</th>\n",
       "      <td>803287</td>\n",
       "      <td>363.0</td>\n",
       "      <td>49</td>\n",
       "      <td>215.6200</td>\n",
       "      <td>225.775717</td>\n",
       "      <td>1.047100</td>\n",
       "      <td>10.155717</td>\n",
       "    </tr>\n",
       "    <tr>\n",
       "      <th>225</th>\n",
       "      <td>803393</td>\n",
       "      <td>522.0</td>\n",
       "      <td>19</td>\n",
       "      <td>91.2200</td>\n",
       "      <td>11.276038</td>\n",
       "      <td>0.123614</td>\n",
       "      <td>-79.943962</td>\n",
       "    </tr>\n",
       "    <tr>\n",
       "      <th>226</th>\n",
       "      <td>803472</td>\n",
       "      <td>121.0</td>\n",
       "      <td>12</td>\n",
       "      <td>131.5000</td>\n",
       "      <td>13.738535</td>\n",
       "      <td>0.104476</td>\n",
       "      <td>-117.761465</td>\n",
       "    </tr>\n",
       "    <tr>\n",
       "      <th>227</th>\n",
       "      <td>803588</td>\n",
       "      <td>14052.0</td>\n",
       "      <td>27</td>\n",
       "      <td>1326.4800</td>\n",
       "      <td>1304.632815</td>\n",
       "      <td>0.983530</td>\n",
       "      <td>-21.847185</td>\n",
       "    </tr>\n",
       "    <tr>\n",
       "      <th>228</th>\n",
       "      <td>804309</td>\n",
       "      <td>0.0</td>\n",
       "      <td>2</td>\n",
       "      <td>0.4000</td>\n",
       "      <td>-1.000000</td>\n",
       "      <td>-2.500000</td>\n",
       "      <td>-1.400000</td>\n",
       "    </tr>\n",
       "  </tbody>\n",
       "</table>\n",
       "<p>229 rows × 7 columns</p>\n",
       "</div>"
      ],
      "text/plain": [
       "     campaign_id  installs  days  total_spends  total_revenue_60d  ROAS_60d  \\\n",
       "0          19115   89015.0  1645    30161.4300       23726.583781  0.786653   \n",
       "1          22083    9187.0   578     9479.7572         619.413547  0.065341   \n",
       "2          89897     103.0    10      194.9200         103.672651  0.531873   \n",
       "3          89917     296.0    38      617.7400          39.448237  0.063859   \n",
       "4          89985     164.0    12      155.3500         163.865598  1.054816   \n",
       "..           ...       ...   ...           ...                ...       ...   \n",
       "224       803287     363.0    49      215.6200         225.775717  1.047100   \n",
       "225       803393     522.0    19       91.2200          11.276038  0.123614   \n",
       "226       803472     121.0    12      131.5000          13.738535  0.104476   \n",
       "227       803588   14052.0    27     1326.4800        1304.632815  0.983530   \n",
       "228       804309       0.0     2        0.4000          -1.000000 -2.500000   \n",
       "\n",
       "     marketing_profit  \n",
       "0        -6434.846219  \n",
       "1        -8860.343653  \n",
       "2          -91.247349  \n",
       "3         -578.291763  \n",
       "4            8.515598  \n",
       "..                ...  \n",
       "224         10.155717  \n",
       "225        -79.943962  \n",
       "226       -117.761465  \n",
       "227        -21.847185  \n",
       "228         -1.400000  \n",
       "\n",
       "[229 rows x 7 columns]"
      ]
     },
     "execution_count": 11,
     "metadata": {},
     "output_type": "execute_result"
    }
   ],
   "source": [
    "df = costs.merge(revenue, on=['Install_Dates', 'campaign_id', 'Country'])\n",
    "aggregated_data = df.groupby(['campaign_id']).agg(installs = ('installs', 'sum'), \n",
    "                                                  days = ('Install_Dates', 'count'), total_spends = ('spends','sum'), \n",
    "                                                  total_revenue_60d = ('60d_LTV','sum')).reset_index()\n",
    "aggregated_data['ROAS_60d'] = aggregated_data['total_revenue_60d'] / aggregated_data['total_spends']\n",
    "aggregated_data['marketing_profit'] = aggregated_data['total_revenue_60d'] - aggregated_data['total_spends']\n",
    "aggregated_data"
   ]
  },
  {
   "cell_type": "markdown",
   "metadata": {},
   "source": [
    "Построим график ROAS_60d от total_spends"
   ]
  },
  {
   "cell_type": "code",
   "execution_count": 12,
   "metadata": {},
   "outputs": [
    {
     "data": {
      "image/png": "[encoded data removed]",
      "text/plain": [
       "<Figure size 1000x600 with 1 Axes>"
      ]
     },
     "metadata": {},
     "output_type": "display_data"
    }
   ],
   "source": [
    "import matplotlib.pyplot as plt\n",
    "def plot(x_max=None):\n",
    "    plt.figure(figsize=(10, 6))\n",
    "    plt.scatter(aggregated_data['total_spends'], aggregated_data['ROAS_60d'], alpha=0.5)\n",
    "    plt.xlim([0,x_max])\n",
    "    plt.title('Зависимость ROAS 60го дня от расходов')\n",
    "    plt.xlabel('Расходы на кампанию')\n",
    "    plt.ylabel('ROAS 60го дня')\n",
    "    plt.grid(True)\n",
    "    plt.show()\n",
    "    \n",
    "plot()"
   ]
  },
  {
   "cell_type": "markdown",
   "metadata": {},
   "source": [
    "Посмотрим на начальный участок ближе"
   ]
  },
  {
   "cell_type": "code",
   "execution_count": 13,
   "metadata": {},
   "outputs": [
    {
     "data": {
      "image/png": "[encoded data removed]",
      "text/plain": [
       "<Figure size 1000x600 with 1 Axes>"
      ]
     },
     "metadata": {},
     "output_type": "display_data"
    }
   ],
   "source": [
    "plot(5000)"
   ]
  },
  {
   "cell_type": "markdown",
   "metadata": {},
   "source": [
    "При низких расходах (менее 1000) наблюдается большое разнообразие значений ROAS. С увеличением расходов на кампанию разброс снижается, ROAS концентрируется около нуля."
   ]
  },
  {
   "cell_type": "code",
   "execution_count": 14,
   "metadata": {},
   "outputs": [
    {
     "data": {
      "text/html": [
       "<div>\n",
       "<style scoped>\n",
       "    .dataframe tbody tr th:only-of-type {\n",
       "        vertical-align: middle;\n",
       "    }\n",
       "\n",
       "    .dataframe tbody tr th {\n",
       "        vertical-align: top;\n",
       "    }\n",
       "\n",
       "    .dataframe thead th {\n",
       "        text-align: right;\n",
       "    }\n",
       "</style>\n",
       "<table border=\"1\" class=\"dataframe\">\n",
       "  <thead>\n",
       "    <tr style=\"text-align: right;\">\n",
       "      <th></th>\n",
       "      <th>ROAS_60d</th>\n",
       "      <th>total_spends</th>\n",
       "    </tr>\n",
       "  </thead>\n",
       "  <tbody>\n",
       "    <tr>\n",
       "      <th>ROAS_60d</th>\n",
       "      <td>1.000000</td>\n",
       "      <td>0.001062</td>\n",
       "    </tr>\n",
       "    <tr>\n",
       "      <th>total_spends</th>\n",
       "      <td>0.001062</td>\n",
       "      <td>1.000000</td>\n",
       "    </tr>\n",
       "  </tbody>\n",
       "</table>\n",
       "</div>"
      ],
      "text/plain": [
       "              ROAS_60d  total_spends\n",
       "ROAS_60d      1.000000      0.001062\n",
       "total_spends  0.001062      1.000000"
      ]
     },
     "execution_count": 14,
     "metadata": {},
     "output_type": "execute_result"
    }
   ],
   "source": [
    "aggregated_data[['ROAS_60d', 'total_spends']].corr()"
   ]
  },
  {
   "cell_type": "markdown",
   "metadata": {},
   "source": [
    "Коэффициент корреляции Пирсона около нуля, линейной зависимости нет, гипотеза отдела маркетинга не подтверждается"
   ]
  },
  {
   "cell_type": "markdown",
   "metadata": {},
   "source": [
    "Будем считать, что отрицательные значения в 60d_LTV означает, что нет полных 60 дней по этой кампании. Можно отфильтровать такие кампаний или же для них мы можем спрогнозировать значение для заполнения на основе существующих данных.\n",
    "Попробуем сначала отфильтровать"
   ]
  },
  {
   "cell_type": "code",
   "execution_count": 15,
   "metadata": {},
   "outputs": [
    {
     "data": {
      "text/html": [
       "<div>\n",
       "<style scoped>\n",
       "    .dataframe tbody tr th:only-of-type {\n",
       "        vertical-align: middle;\n",
       "    }\n",
       "\n",
       "    .dataframe tbody tr th {\n",
       "        vertical-align: top;\n",
       "    }\n",
       "\n",
       "    .dataframe thead th {\n",
       "        text-align: right;\n",
       "    }\n",
       "</style>\n",
       "<table border=\"1\" class=\"dataframe\">\n",
       "  <thead>\n",
       "    <tr style=\"text-align: right;\">\n",
       "      <th></th>\n",
       "      <th>campaign_id</th>\n",
       "      <th>installs</th>\n",
       "      <th>days</th>\n",
       "      <th>total_spends</th>\n",
       "      <th>total_revenue_60d</th>\n",
       "      <th>ROAS_60d</th>\n",
       "      <th>marketing_profit</th>\n",
       "    </tr>\n",
       "  </thead>\n",
       "  <tbody>\n",
       "    <tr>\n",
       "      <th>1</th>\n",
       "      <td>22083</td>\n",
       "      <td>9187.0</td>\n",
       "      <td>578</td>\n",
       "      <td>9479.7572</td>\n",
       "      <td>619.413547</td>\n",
       "      <td>0.065341</td>\n",
       "      <td>-8860.343653</td>\n",
       "    </tr>\n",
       "    <tr>\n",
       "      <th>77</th>\n",
       "      <td>160845</td>\n",
       "      <td>92345.0</td>\n",
       "      <td>62</td>\n",
       "      <td>16937.7700</td>\n",
       "      <td>9063.716103</td>\n",
       "      <td>0.535119</td>\n",
       "      <td>-7874.053897</td>\n",
       "    </tr>\n",
       "    <tr>\n",
       "      <th>0</th>\n",
       "      <td>19115</td>\n",
       "      <td>89015.0</td>\n",
       "      <td>1645</td>\n",
       "      <td>30161.4300</td>\n",
       "      <td>23726.583781</td>\n",
       "      <td>0.786653</td>\n",
       "      <td>-6434.846219</td>\n",
       "    </tr>\n",
       "    <tr>\n",
       "      <th>172</th>\n",
       "      <td>789602</td>\n",
       "      <td>0.0</td>\n",
       "      <td>14</td>\n",
       "      <td>4477.8683</td>\n",
       "      <td>0.000000</td>\n",
       "      <td>0.000000</td>\n",
       "      <td>-4477.868300</td>\n",
       "    </tr>\n",
       "    <tr>\n",
       "      <th>174</th>\n",
       "      <td>789721</td>\n",
       "      <td>24493.0</td>\n",
       "      <td>40</td>\n",
       "      <td>4246.0300</td>\n",
       "      <td>266.947717</td>\n",
       "      <td>0.062870</td>\n",
       "      <td>-3979.082283</td>\n",
       "    </tr>\n",
       "    <tr>\n",
       "      <th>...</th>\n",
       "      <td>...</td>\n",
       "      <td>...</td>\n",
       "      <td>...</td>\n",
       "      <td>...</td>\n",
       "      <td>...</td>\n",
       "      <td>...</td>\n",
       "      <td>...</td>\n",
       "    </tr>\n",
       "    <tr>\n",
       "      <th>117</th>\n",
       "      <td>787847</td>\n",
       "      <td>1599.0</td>\n",
       "      <td>31</td>\n",
       "      <td>171.6600</td>\n",
       "      <td>311.664668</td>\n",
       "      <td>1.815593</td>\n",
       "      <td>140.004668</td>\n",
       "    </tr>\n",
       "    <tr>\n",
       "      <th>110</th>\n",
       "      <td>787481</td>\n",
       "      <td>3423.0</td>\n",
       "      <td>41</td>\n",
       "      <td>1308.1000</td>\n",
       "      <td>1599.475665</td>\n",
       "      <td>1.222747</td>\n",
       "      <td>291.375665</td>\n",
       "    </tr>\n",
       "    <tr>\n",
       "      <th>205</th>\n",
       "      <td>791872</td>\n",
       "      <td>317.0</td>\n",
       "      <td>26</td>\n",
       "      <td>468.6400</td>\n",
       "      <td>783.795258</td>\n",
       "      <td>1.672489</td>\n",
       "      <td>315.155258</td>\n",
       "    </tr>\n",
       "    <tr>\n",
       "      <th>95</th>\n",
       "      <td>786843</td>\n",
       "      <td>7859.0</td>\n",
       "      <td>37</td>\n",
       "      <td>313.2200</td>\n",
       "      <td>645.964254</td>\n",
       "      <td>2.062334</td>\n",
       "      <td>332.744254</td>\n",
       "    </tr>\n",
       "    <tr>\n",
       "      <th>177</th>\n",
       "      <td>790034</td>\n",
       "      <td>87544.0</td>\n",
       "      <td>54</td>\n",
       "      <td>12076.2700</td>\n",
       "      <td>13870.735633</td>\n",
       "      <td>1.148594</td>\n",
       "      <td>1794.465633</td>\n",
       "    </tr>\n",
       "  </tbody>\n",
       "</table>\n",
       "<p>187 rows × 7 columns</p>\n",
       "</div>"
      ],
      "text/plain": [
       "     campaign_id  installs  days  total_spends  total_revenue_60d  ROAS_60d  \\\n",
       "1          22083    9187.0   578     9479.7572         619.413547  0.065341   \n",
       "77        160845   92345.0    62    16937.7700        9063.716103  0.535119   \n",
       "0          19115   89015.0  1645    30161.4300       23726.583781  0.786653   \n",
       "172       789602       0.0    14     4477.8683           0.000000  0.000000   \n",
       "174       789721   24493.0    40     4246.0300         266.947717  0.062870   \n",
       "..           ...       ...   ...           ...                ...       ...   \n",
       "117       787847    1599.0    31      171.6600         311.664668  1.815593   \n",
       "110       787481    3423.0    41     1308.1000        1599.475665  1.222747   \n",
       "205       791872     317.0    26      468.6400         783.795258  1.672489   \n",
       "95        786843    7859.0    37      313.2200         645.964254  2.062334   \n",
       "177       790034   87544.0    54    12076.2700       13870.735633  1.148594   \n",
       "\n",
       "     marketing_profit  \n",
       "1        -8860.343653  \n",
       "77       -7874.053897  \n",
       "0        -6434.846219  \n",
       "172      -4477.868300  \n",
       "174      -3979.082283  \n",
       "..                ...  \n",
       "117        140.004668  \n",
       "110        291.375665  \n",
       "205        315.155258  \n",
       "95         332.744254  \n",
       "177       1794.465633  \n",
       "\n",
       "[187 rows x 7 columns]"
      ]
     },
     "execution_count": 15,
     "metadata": {},
     "output_type": "execute_result"
    }
   ],
   "source": [
    "aggregated_data_f = aggregated_data[aggregated_data['total_revenue_60d']>=0]\n",
    "aggregated_data_f.sort_values('marketing_profit')"
   ]
  },
  {
   "cell_type": "markdown",
   "metadata": {},
   "source": [
    "Видим, что marketing_profit может быть как положительным, так и отрицательным. Сейчас траты по дням распределены неравномерно, а нам нужно установить равный по дням CPD. Рассчитаем средний CPD и CPI"
   ]
  },
  {
   "cell_type": "code",
   "execution_count": 16,
   "metadata": {},
   "outputs": [
    {
     "data": {
      "text/html": [
       "<div>\n",
       "<style scoped>\n",
       "    .dataframe tbody tr th:only-of-type {\n",
       "        vertical-align: middle;\n",
       "    }\n",
       "\n",
       "    .dataframe tbody tr th {\n",
       "        vertical-align: top;\n",
       "    }\n",
       "\n",
       "    .dataframe thead th {\n",
       "        text-align: right;\n",
       "    }\n",
       "</style>\n",
       "<table border=\"1\" class=\"dataframe\">\n",
       "  <thead>\n",
       "    <tr style=\"text-align: right;\">\n",
       "      <th></th>\n",
       "      <th>campaign_id</th>\n",
       "      <th>installs</th>\n",
       "      <th>days</th>\n",
       "      <th>total_spends</th>\n",
       "      <th>total_revenue_60d</th>\n",
       "      <th>ROAS_60d</th>\n",
       "      <th>marketing_profit</th>\n",
       "      <th>CPI</th>\n",
       "      <th>CPD</th>\n",
       "    </tr>\n",
       "  </thead>\n",
       "  <tbody>\n",
       "    <tr>\n",
       "      <th>0</th>\n",
       "      <td>19115</td>\n",
       "      <td>89015.0</td>\n",
       "      <td>1645</td>\n",
       "      <td>30161.4300</td>\n",
       "      <td>23726.583781</td>\n",
       "      <td>0.786653</td>\n",
       "      <td>-6434.846219</td>\n",
       "      <td>0.338835</td>\n",
       "      <td>18.335216</td>\n",
       "    </tr>\n",
       "    <tr>\n",
       "      <th>1</th>\n",
       "      <td>22083</td>\n",
       "      <td>9187.0</td>\n",
       "      <td>578</td>\n",
       "      <td>9479.7572</td>\n",
       "      <td>619.413547</td>\n",
       "      <td>0.065341</td>\n",
       "      <td>-8860.343653</td>\n",
       "      <td>1.031866</td>\n",
       "      <td>16.400964</td>\n",
       "    </tr>\n",
       "    <tr>\n",
       "      <th>2</th>\n",
       "      <td>89897</td>\n",
       "      <td>103.0</td>\n",
       "      <td>10</td>\n",
       "      <td>194.9200</td>\n",
       "      <td>103.672651</td>\n",
       "      <td>0.531873</td>\n",
       "      <td>-91.247349</td>\n",
       "      <td>1.892427</td>\n",
       "      <td>19.492000</td>\n",
       "    </tr>\n",
       "    <tr>\n",
       "      <th>3</th>\n",
       "      <td>89917</td>\n",
       "      <td>296.0</td>\n",
       "      <td>38</td>\n",
       "      <td>617.7400</td>\n",
       "      <td>39.448237</td>\n",
       "      <td>0.063859</td>\n",
       "      <td>-578.291763</td>\n",
       "      <td>2.086959</td>\n",
       "      <td>16.256316</td>\n",
       "    </tr>\n",
       "    <tr>\n",
       "      <th>4</th>\n",
       "      <td>89985</td>\n",
       "      <td>164.0</td>\n",
       "      <td>12</td>\n",
       "      <td>155.3500</td>\n",
       "      <td>163.865598</td>\n",
       "      <td>1.054816</td>\n",
       "      <td>8.515598</td>\n",
       "      <td>0.947256</td>\n",
       "      <td>12.945833</td>\n",
       "    </tr>\n",
       "    <tr>\n",
       "      <th>...</th>\n",
       "      <td>...</td>\n",
       "      <td>...</td>\n",
       "      <td>...</td>\n",
       "      <td>...</td>\n",
       "      <td>...</td>\n",
       "      <td>...</td>\n",
       "      <td>...</td>\n",
       "      <td>...</td>\n",
       "      <td>...</td>\n",
       "    </tr>\n",
       "    <tr>\n",
       "      <th>221</th>\n",
       "      <td>803170</td>\n",
       "      <td>3232.0</td>\n",
       "      <td>43</td>\n",
       "      <td>1872.2900</td>\n",
       "      <td>426.079143</td>\n",
       "      <td>0.227571</td>\n",
       "      <td>-1446.210857</td>\n",
       "      <td>0.579298</td>\n",
       "      <td>43.541628</td>\n",
       "    </tr>\n",
       "    <tr>\n",
       "      <th>224</th>\n",
       "      <td>803287</td>\n",
       "      <td>363.0</td>\n",
       "      <td>49</td>\n",
       "      <td>215.6200</td>\n",
       "      <td>225.775717</td>\n",
       "      <td>1.047100</td>\n",
       "      <td>10.155717</td>\n",
       "      <td>0.593994</td>\n",
       "      <td>4.400408</td>\n",
       "    </tr>\n",
       "    <tr>\n",
       "      <th>225</th>\n",
       "      <td>803393</td>\n",
       "      <td>522.0</td>\n",
       "      <td>19</td>\n",
       "      <td>91.2200</td>\n",
       "      <td>11.276038</td>\n",
       "      <td>0.123614</td>\n",
       "      <td>-79.943962</td>\n",
       "      <td>0.174751</td>\n",
       "      <td>4.801053</td>\n",
       "    </tr>\n",
       "    <tr>\n",
       "      <th>226</th>\n",
       "      <td>803472</td>\n",
       "      <td>121.0</td>\n",
       "      <td>12</td>\n",
       "      <td>131.5000</td>\n",
       "      <td>13.738535</td>\n",
       "      <td>0.104476</td>\n",
       "      <td>-117.761465</td>\n",
       "      <td>1.086777</td>\n",
       "      <td>10.958333</td>\n",
       "    </tr>\n",
       "    <tr>\n",
       "      <th>227</th>\n",
       "      <td>803588</td>\n",
       "      <td>14052.0</td>\n",
       "      <td>27</td>\n",
       "      <td>1326.4800</td>\n",
       "      <td>1304.632815</td>\n",
       "      <td>0.983530</td>\n",
       "      <td>-21.847185</td>\n",
       "      <td>0.094398</td>\n",
       "      <td>49.128889</td>\n",
       "    </tr>\n",
       "  </tbody>\n",
       "</table>\n",
       "<p>187 rows × 9 columns</p>\n",
       "</div>"
      ],
      "text/plain": [
       "     campaign_id  installs  days  total_spends  total_revenue_60d  ROAS_60d  \\\n",
       "0          19115   89015.0  1645    30161.4300       23726.583781  0.786653   \n",
       "1          22083    9187.0   578     9479.7572         619.413547  0.065341   \n",
       "2          89897     103.0    10      194.9200         103.672651  0.531873   \n",
       "3          89917     296.0    38      617.7400          39.448237  0.063859   \n",
       "4          89985     164.0    12      155.3500         163.865598  1.054816   \n",
       "..           ...       ...   ...           ...                ...       ...   \n",
       "221       803170    3232.0    43     1872.2900         426.079143  0.227571   \n",
       "224       803287     363.0    49      215.6200         225.775717  1.047100   \n",
       "225       803393     522.0    19       91.2200          11.276038  0.123614   \n",
       "226       803472     121.0    12      131.5000          13.738535  0.104476   \n",
       "227       803588   14052.0    27     1326.4800        1304.632815  0.983530   \n",
       "\n",
       "     marketing_profit       CPI        CPD  \n",
       "0        -6434.846219  0.338835  18.335216  \n",
       "1        -8860.343653  1.031866  16.400964  \n",
       "2          -91.247349  1.892427  19.492000  \n",
       "3         -578.291763  2.086959  16.256316  \n",
       "4            8.515598  0.947256  12.945833  \n",
       "..                ...       ...        ...  \n",
       "221      -1446.210857  0.579298  43.541628  \n",
       "224         10.155717  0.593994   4.400408  \n",
       "225        -79.943962  0.174751   4.801053  \n",
       "226       -117.761465  1.086777  10.958333  \n",
       "227        -21.847185  0.094398  49.128889  \n",
       "\n",
       "[187 rows x 9 columns]"
      ]
     },
     "execution_count": 16,
     "metadata": {},
     "output_type": "execute_result"
    }
   ],
   "source": [
    "aggregated_data_f['CPI'] = aggregated_data_f['total_spends']/aggregated_data_f['installs']\n",
    "aggregated_data_f['CPD'] = aggregated_data_f['total_spends']/aggregated_data_f['days']\n",
    "aggregated_data_f"
   ]
  },
  {
   "cell_type": "code",
   "execution_count": 17,
   "metadata": {},
   "outputs": [
    {
     "data": {
      "text/plain": [
       "marketing_profit\n",
       "True     64.705882\n",
       "False    35.294118\n",
       "Name: proportion, dtype: float64"
      ]
     },
     "execution_count": 17,
     "metadata": {},
     "output_type": "execute_result"
    }
   ],
   "source": [
    "(aggregated_data_f['marketing_profit']<0).value_counts(normalize=True)*100"
   ]
  },
  {
   "cell_type": "markdown",
   "metadata": {},
   "source": [
    "Больше половины (64.7%) убыточных на 60 день кампаний, 35.3% с положительным профитом на 60 день. Добавим столбец со средним профитом в день"
   ]
  },
  {
   "cell_type": "code",
   "execution_count": 18,
   "metadata": {},
   "outputs": [],
   "source": [
    "aggregated_data_f['profit_per_day'] = aggregated_data_f['marketing_profit']/aggregated_data_f['days']"
   ]
  },
  {
   "cell_type": "markdown",
   "metadata": {},
   "source": [
    "Можно предложить минимизировать затраты на кампании с отрицательным marketing_profit, взяв определенный процент от CPD, например, 80%."
   ]
  },
  {
   "cell_type": "code",
   "execution_count": 19,
   "metadata": {},
   "outputs": [
    {
     "data": {
      "text/html": [
       "<div>\n",
       "<style scoped>\n",
       "    .dataframe tbody tr th:only-of-type {\n",
       "        vertical-align: middle;\n",
       "    }\n",
       "\n",
       "    .dataframe tbody tr th {\n",
       "        vertical-align: top;\n",
       "    }\n",
       "\n",
       "    .dataframe thead th {\n",
       "        text-align: right;\n",
       "    }\n",
       "</style>\n",
       "<table border=\"1\" class=\"dataframe\">\n",
       "  <thead>\n",
       "    <tr style=\"text-align: right;\">\n",
       "      <th></th>\n",
       "      <th>campaign_id</th>\n",
       "      <th>installs</th>\n",
       "      <th>days</th>\n",
       "      <th>total_spends</th>\n",
       "      <th>total_revenue_60d</th>\n",
       "      <th>ROAS_60d</th>\n",
       "      <th>marketing_profit</th>\n",
       "      <th>CPI</th>\n",
       "      <th>CPD</th>\n",
       "      <th>profit_per_day</th>\n",
       "      <th>adjusted_CPD</th>\n",
       "    </tr>\n",
       "  </thead>\n",
       "  <tbody>\n",
       "    <tr>\n",
       "      <th>0</th>\n",
       "      <td>19115</td>\n",
       "      <td>89015.0</td>\n",
       "      <td>1645</td>\n",
       "      <td>30161.4300</td>\n",
       "      <td>23726.583781</td>\n",
       "      <td>0.786653</td>\n",
       "      <td>-6434.846219</td>\n",
       "      <td>0.338835</td>\n",
       "      <td>18.335216</td>\n",
       "      <td>-3.911761</td>\n",
       "      <td>14.668173</td>\n",
       "    </tr>\n",
       "    <tr>\n",
       "      <th>1</th>\n",
       "      <td>22083</td>\n",
       "      <td>9187.0</td>\n",
       "      <td>578</td>\n",
       "      <td>9479.7572</td>\n",
       "      <td>619.413547</td>\n",
       "      <td>0.065341</td>\n",
       "      <td>-8860.343653</td>\n",
       "      <td>1.031866</td>\n",
       "      <td>16.400964</td>\n",
       "      <td>-15.329314</td>\n",
       "      <td>13.120771</td>\n",
       "    </tr>\n",
       "    <tr>\n",
       "      <th>2</th>\n",
       "      <td>89897</td>\n",
       "      <td>103.0</td>\n",
       "      <td>10</td>\n",
       "      <td>194.9200</td>\n",
       "      <td>103.672651</td>\n",
       "      <td>0.531873</td>\n",
       "      <td>-91.247349</td>\n",
       "      <td>1.892427</td>\n",
       "      <td>19.492000</td>\n",
       "      <td>-9.124735</td>\n",
       "      <td>15.593600</td>\n",
       "    </tr>\n",
       "    <tr>\n",
       "      <th>3</th>\n",
       "      <td>89917</td>\n",
       "      <td>296.0</td>\n",
       "      <td>38</td>\n",
       "      <td>617.7400</td>\n",
       "      <td>39.448237</td>\n",
       "      <td>0.063859</td>\n",
       "      <td>-578.291763</td>\n",
       "      <td>2.086959</td>\n",
       "      <td>16.256316</td>\n",
       "      <td>-15.218204</td>\n",
       "      <td>13.005053</td>\n",
       "    </tr>\n",
       "    <tr>\n",
       "      <th>4</th>\n",
       "      <td>89985</td>\n",
       "      <td>164.0</td>\n",
       "      <td>12</td>\n",
       "      <td>155.3500</td>\n",
       "      <td>163.865598</td>\n",
       "      <td>1.054816</td>\n",
       "      <td>8.515598</td>\n",
       "      <td>0.947256</td>\n",
       "      <td>12.945833</td>\n",
       "      <td>0.709633</td>\n",
       "      <td>12.945833</td>\n",
       "    </tr>\n",
       "    <tr>\n",
       "      <th>...</th>\n",
       "      <td>...</td>\n",
       "      <td>...</td>\n",
       "      <td>...</td>\n",
       "      <td>...</td>\n",
       "      <td>...</td>\n",
       "      <td>...</td>\n",
       "      <td>...</td>\n",
       "      <td>...</td>\n",
       "      <td>...</td>\n",
       "      <td>...</td>\n",
       "      <td>...</td>\n",
       "    </tr>\n",
       "    <tr>\n",
       "      <th>221</th>\n",
       "      <td>803170</td>\n",
       "      <td>3232.0</td>\n",
       "      <td>43</td>\n",
       "      <td>1872.2900</td>\n",
       "      <td>426.079143</td>\n",
       "      <td>0.227571</td>\n",
       "      <td>-1446.210857</td>\n",
       "      <td>0.579298</td>\n",
       "      <td>43.541628</td>\n",
       "      <td>-33.632811</td>\n",
       "      <td>34.833302</td>\n",
       "    </tr>\n",
       "    <tr>\n",
       "      <th>224</th>\n",
       "      <td>803287</td>\n",
       "      <td>363.0</td>\n",
       "      <td>49</td>\n",
       "      <td>215.6200</td>\n",
       "      <td>225.775717</td>\n",
       "      <td>1.047100</td>\n",
       "      <td>10.155717</td>\n",
       "      <td>0.593994</td>\n",
       "      <td>4.400408</td>\n",
       "      <td>0.207260</td>\n",
       "      <td>4.400408</td>\n",
       "    </tr>\n",
       "    <tr>\n",
       "      <th>225</th>\n",
       "      <td>803393</td>\n",
       "      <td>522.0</td>\n",
       "      <td>19</td>\n",
       "      <td>91.2200</td>\n",
       "      <td>11.276038</td>\n",
       "      <td>0.123614</td>\n",
       "      <td>-79.943962</td>\n",
       "      <td>0.174751</td>\n",
       "      <td>4.801053</td>\n",
       "      <td>-4.207577</td>\n",
       "      <td>3.840842</td>\n",
       "    </tr>\n",
       "    <tr>\n",
       "      <th>226</th>\n",
       "      <td>803472</td>\n",
       "      <td>121.0</td>\n",
       "      <td>12</td>\n",
       "      <td>131.5000</td>\n",
       "      <td>13.738535</td>\n",
       "      <td>0.104476</td>\n",
       "      <td>-117.761465</td>\n",
       "      <td>1.086777</td>\n",
       "      <td>10.958333</td>\n",
       "      <td>-9.813455</td>\n",
       "      <td>8.766667</td>\n",
       "    </tr>\n",
       "    <tr>\n",
       "      <th>227</th>\n",
       "      <td>803588</td>\n",
       "      <td>14052.0</td>\n",
       "      <td>27</td>\n",
       "      <td>1326.4800</td>\n",
       "      <td>1304.632815</td>\n",
       "      <td>0.983530</td>\n",
       "      <td>-21.847185</td>\n",
       "      <td>0.094398</td>\n",
       "      <td>49.128889</td>\n",
       "      <td>-0.809155</td>\n",
       "      <td>39.303111</td>\n",
       "    </tr>\n",
       "  </tbody>\n",
       "</table>\n",
       "<p>187 rows × 11 columns</p>\n",
       "</div>"
      ],
      "text/plain": [
       "     campaign_id  installs  days  total_spends  total_revenue_60d  ROAS_60d  \\\n",
       "0          19115   89015.0  1645    30161.4300       23726.583781  0.786653   \n",
       "1          22083    9187.0   578     9479.7572         619.413547  0.065341   \n",
       "2          89897     103.0    10      194.9200         103.672651  0.531873   \n",
       "3          89917     296.0    38      617.7400          39.448237  0.063859   \n",
       "4          89985     164.0    12      155.3500         163.865598  1.054816   \n",
       "..           ...       ...   ...           ...                ...       ...   \n",
       "221       803170    3232.0    43     1872.2900         426.079143  0.227571   \n",
       "224       803287     363.0    49      215.6200         225.775717  1.047100   \n",
       "225       803393     522.0    19       91.2200          11.276038  0.123614   \n",
       "226       803472     121.0    12      131.5000          13.738535  0.104476   \n",
       "227       803588   14052.0    27     1326.4800        1304.632815  0.983530   \n",
       "\n",
       "     marketing_profit       CPI        CPD  profit_per_day  adjusted_CPD  \n",
       "0        -6434.846219  0.338835  18.335216       -3.911761     14.668173  \n",
       "1        -8860.343653  1.031866  16.400964      -15.329314     13.120771  \n",
       "2          -91.247349  1.892427  19.492000       -9.124735     15.593600  \n",
       "3         -578.291763  2.086959  16.256316      -15.218204     13.005053  \n",
       "4            8.515598  0.947256  12.945833        0.709633     12.945833  \n",
       "..                ...       ...        ...             ...           ...  \n",
       "221      -1446.210857  0.579298  43.541628      -33.632811     34.833302  \n",
       "224         10.155717  0.593994   4.400408        0.207260      4.400408  \n",
       "225        -79.943962  0.174751   4.801053       -4.207577      3.840842  \n",
       "226       -117.761465  1.086777  10.958333       -9.813455      8.766667  \n",
       "227        -21.847185  0.094398  49.128889       -0.809155     39.303111  \n",
       "\n",
       "[187 rows x 11 columns]"
      ]
     },
     "execution_count": 19,
     "metadata": {},
     "output_type": "execute_result"
    }
   ],
   "source": [
    "aggregated_data_f['adjusted_CPD'] = aggregated_data_f.apply(lambda row: row['CPD'] * 0.8 \n",
    "                                                            if row['marketing_profit'] < 0 else row['CPD'], axis=1)\n",
    "aggregated_data_f"
   ]
  },
  {
   "cell_type": "markdown",
   "metadata": {},
   "source": [
    "Посмотирм на кампании с положительным marketing_profit."
   ]
  },
  {
   "cell_type": "code",
   "execution_count": 20,
   "metadata": {},
   "outputs": [
    {
     "data": {
      "text/html": [
       "<div>\n",
       "<style scoped>\n",
       "    .dataframe tbody tr th:only-of-type {\n",
       "        vertical-align: middle;\n",
       "    }\n",
       "\n",
       "    .dataframe tbody tr th {\n",
       "        vertical-align: top;\n",
       "    }\n",
       "\n",
       "    .dataframe thead th {\n",
       "        text-align: right;\n",
       "    }\n",
       "</style>\n",
       "<table border=\"1\" class=\"dataframe\">\n",
       "  <thead>\n",
       "    <tr style=\"text-align: right;\">\n",
       "      <th></th>\n",
       "      <th>campaign_id</th>\n",
       "      <th>installs</th>\n",
       "      <th>days</th>\n",
       "      <th>total_spends</th>\n",
       "      <th>total_revenue_60d</th>\n",
       "      <th>ROAS_60d</th>\n",
       "      <th>marketing_profit</th>\n",
       "      <th>CPI</th>\n",
       "      <th>CPD</th>\n",
       "      <th>profit_per_day</th>\n",
       "      <th>adjusted_CPD</th>\n",
       "    </tr>\n",
       "  </thead>\n",
       "  <tbody>\n",
       "    <tr>\n",
       "      <th>177</th>\n",
       "      <td>790034</td>\n",
       "      <td>87544.0</td>\n",
       "      <td>54</td>\n",
       "      <td>12076.27</td>\n",
       "      <td>13870.735633</td>\n",
       "      <td>1.148594</td>\n",
       "      <td>1794.465633</td>\n",
       "      <td>0.137945</td>\n",
       "      <td>223.634630</td>\n",
       "      <td>33.230845</td>\n",
       "      <td>223.634630</td>\n",
       "    </tr>\n",
       "    <tr>\n",
       "      <th>205</th>\n",
       "      <td>791872</td>\n",
       "      <td>317.0</td>\n",
       "      <td>26</td>\n",
       "      <td>468.64</td>\n",
       "      <td>783.795258</td>\n",
       "      <td>1.672489</td>\n",
       "      <td>315.155258</td>\n",
       "      <td>1.478360</td>\n",
       "      <td>18.024615</td>\n",
       "      <td>12.121356</td>\n",
       "      <td>18.024615</td>\n",
       "    </tr>\n",
       "    <tr>\n",
       "      <th>95</th>\n",
       "      <td>786843</td>\n",
       "      <td>7859.0</td>\n",
       "      <td>37</td>\n",
       "      <td>313.22</td>\n",
       "      <td>645.964254</td>\n",
       "      <td>2.062334</td>\n",
       "      <td>332.744254</td>\n",
       "      <td>0.039855</td>\n",
       "      <td>8.465405</td>\n",
       "      <td>8.993088</td>\n",
       "      <td>8.465405</td>\n",
       "    </tr>\n",
       "    <tr>\n",
       "      <th>110</th>\n",
       "      <td>787481</td>\n",
       "      <td>3423.0</td>\n",
       "      <td>41</td>\n",
       "      <td>1308.10</td>\n",
       "      <td>1599.475665</td>\n",
       "      <td>1.222747</td>\n",
       "      <td>291.375665</td>\n",
       "      <td>0.382150</td>\n",
       "      <td>31.904878</td>\n",
       "      <td>7.106724</td>\n",
       "      <td>31.904878</td>\n",
       "    </tr>\n",
       "    <tr>\n",
       "      <th>153</th>\n",
       "      <td>789050</td>\n",
       "      <td>230.0</td>\n",
       "      <td>18</td>\n",
       "      <td>39.78</td>\n",
       "      <td>129.333544</td>\n",
       "      <td>3.251220</td>\n",
       "      <td>89.553544</td>\n",
       "      <td>0.172957</td>\n",
       "      <td>2.210000</td>\n",
       "      <td>4.975197</td>\n",
       "      <td>2.210000</td>\n",
       "    </tr>\n",
       "  </tbody>\n",
       "</table>\n",
       "</div>"
      ],
      "text/plain": [
       "     campaign_id  installs  days  total_spends  total_revenue_60d  ROAS_60d  \\\n",
       "177       790034   87544.0    54      12076.27       13870.735633  1.148594   \n",
       "205       791872     317.0    26        468.64         783.795258  1.672489   \n",
       "95        786843    7859.0    37        313.22         645.964254  2.062334   \n",
       "110       787481    3423.0    41       1308.10        1599.475665  1.222747   \n",
       "153       789050     230.0    18         39.78         129.333544  3.251220   \n",
       "\n",
       "     marketing_profit       CPI         CPD  profit_per_day  adjusted_CPD  \n",
       "177       1794.465633  0.137945  223.634630       33.230845    223.634630  \n",
       "205        315.155258  1.478360   18.024615       12.121356     18.024615  \n",
       "95         332.744254  0.039855    8.465405        8.993088      8.465405  \n",
       "110        291.375665  0.382150   31.904878        7.106724     31.904878  \n",
       "153         89.553544  0.172957    2.210000        4.975197      2.210000  "
      ]
     },
     "execution_count": 20,
     "metadata": {},
     "output_type": "execute_result"
    }
   ],
   "source": [
    "aggregated_data_f[aggregated_data_f['marketing_profit']>=0].sort_values('profit_per_day', ascending=False).head()"
   ]
  },
  {
   "cell_type": "markdown",
   "metadata": {},
   "source": [
    "Для кампаний с максимальным профитом в день (profit_per_day) можно попробовать увеличить CPD. Если CPI низкий, значит мы привлекаем много дешевых клиентов. Если CPI высокий, значит мы привлекаем небольшое количество дорогих клиентов. Можно выбрать из них, на каких делать ставку."
   ]
  },
  {
   "cell_type": "markdown",
   "metadata": {},
   "source": [
    "# Связь рекламного трафика и органического\n",
    "Приток новых игроков делится на 2 основных источника - рекламный и органический. Отдел маркетинг выдвигает гипотезу о связи рекламного и органического траффика: когда маркетологи привлекают больше рекламного траффика, растет и органический.\n",
    "Для выполнения задачи необходимо использовать тестовый датасет (таблица source_comparison).\n",
    "1.\tИспользуя Causal Impact Analysis подтвердите или опровергните гипотезу маркетологов. Если вы ее опровергаете, то сформулируйте гипотезу которая кажется вам наиболее вероятной и проверьте ее\n",
    "2.\tКоличественно рассчитайте вероятность что гипотеза маркетологов (или ваша) верна\n"
   ]
  },
  {
   "cell_type": "markdown",
   "metadata": {},
   "source": [
    "**Решение**\n"
   ]
  },
  {
   "cell_type": "markdown",
   "metadata": {},
   "source": [
    "Для начала нужно построить сводную по датам и разделением платного и органического источников"
   ]
  },
  {
   "cell_type": "code",
   "execution_count": 21,
   "metadata": {},
   "outputs": [
    {
     "data": {
      "text/html": [
       "<div>\n",
       "<style scoped>\n",
       "    .dataframe tbody tr th:only-of-type {\n",
       "        vertical-align: middle;\n",
       "    }\n",
       "\n",
       "    .dataframe tbody tr th {\n",
       "        vertical-align: top;\n",
       "    }\n",
       "\n",
       "    .dataframe thead th {\n",
       "        text-align: right;\n",
       "    }\n",
       "</style>\n",
       "<table border=\"1\" class=\"dataframe\">\n",
       "  <thead>\n",
       "    <tr style=\"text-align: right;\">\n",
       "      <th></th>\n",
       "      <th>Organic</th>\n",
       "      <th>Paid</th>\n",
       "    </tr>\n",
       "    <tr>\n",
       "      <th>Install_Dates</th>\n",
       "      <th></th>\n",
       "      <th></th>\n",
       "    </tr>\n",
       "  </thead>\n",
       "  <tbody>\n",
       "    <tr>\n",
       "      <th>2020-03-18</th>\n",
       "      <td>8961.0</td>\n",
       "      <td>7359.0</td>\n",
       "    </tr>\n",
       "    <tr>\n",
       "      <th>2020-03-19</th>\n",
       "      <td>8457.0</td>\n",
       "      <td>6739.0</td>\n",
       "    </tr>\n",
       "    <tr>\n",
       "      <th>2020-03-20</th>\n",
       "      <td>8819.0</td>\n",
       "      <td>7254.0</td>\n",
       "    </tr>\n",
       "    <tr>\n",
       "      <th>2020-03-21</th>\n",
       "      <td>4485.0</td>\n",
       "      <td>9552.0</td>\n",
       "    </tr>\n",
       "    <tr>\n",
       "      <th>2020-03-22</th>\n",
       "      <td>5105.0</td>\n",
       "      <td>14804.0</td>\n",
       "    </tr>\n",
       "    <tr>\n",
       "      <th>...</th>\n",
       "      <td>...</td>\n",
       "      <td>...</td>\n",
       "    </tr>\n",
       "    <tr>\n",
       "      <th>2020-05-14</th>\n",
       "      <td>3324.0</td>\n",
       "      <td>8761.0</td>\n",
       "    </tr>\n",
       "    <tr>\n",
       "      <th>2020-05-15</th>\n",
       "      <td>3207.0</td>\n",
       "      <td>7031.0</td>\n",
       "    </tr>\n",
       "    <tr>\n",
       "      <th>2020-05-16</th>\n",
       "      <td>3732.0</td>\n",
       "      <td>7579.0</td>\n",
       "    </tr>\n",
       "    <tr>\n",
       "      <th>2020-05-17</th>\n",
       "      <td>3461.0</td>\n",
       "      <td>8513.0</td>\n",
       "    </tr>\n",
       "    <tr>\n",
       "      <th>2020-05-18</th>\n",
       "      <td>3672.0</td>\n",
       "      <td>8335.0</td>\n",
       "    </tr>\n",
       "  </tbody>\n",
       "</table>\n",
       "<p>61 rows × 2 columns</p>\n",
       "</div>"
      ],
      "text/plain": [
       "               Organic     Paid\n",
       "Install_Dates                  \n",
       "2020-03-18      8961.0   7359.0\n",
       "2020-03-19      8457.0   6739.0\n",
       "2020-03-20      8819.0   7254.0\n",
       "2020-03-21      4485.0   9552.0\n",
       "2020-03-22      5105.0  14804.0\n",
       "...                ...      ...\n",
       "2020-05-14      3324.0   8761.0\n",
       "2020-05-15      3207.0   7031.0\n",
       "2020-05-16      3732.0   7579.0\n",
       "2020-05-17      3461.0   8513.0\n",
       "2020-05-18      3672.0   8335.0\n",
       "\n",
       "[61 rows x 2 columns]"
      ]
     },
     "execution_count": 21,
     "metadata": {},
     "output_type": "execute_result"
    }
   ],
   "source": [
    "daily_data = source_comparison.groupby(['Install_Dates', 'source_type'])['installs'].sum().reset_index()\n",
    "traffic_data = daily_data.pivot_table(index='Install_Dates', columns='source_type', values='installs', aggfunc='sum')\n",
    "traffic_data.columns = ['Organic','Paid']\n",
    "traffic_data"
   ]
  },
  {
   "cell_type": "markdown",
   "metadata": {},
   "source": [
    "Далее нужно выбрать дату для Causal Impact Analysis, начиная с которой резко растет рекламный траффик. Можно оценить визуально или аналитически."
   ]
  },
  {
   "cell_type": "code",
   "execution_count": 22,
   "metadata": {},
   "outputs": [
    {
     "data": {
      "image/png": "[encoded data removed]",
      "text/plain": [
       "<Figure size 1200x600 with 1 Axes>"
      ]
     },
     "metadata": {},
     "output_type": "display_data"
    }
   ],
   "source": [
    "import matplotlib.dates as mdates\n",
    "traffic_data.index = pd.to_datetime(traffic_data.index)\n",
    "\n",
    "plt.figure(figsize=(12, 6))\n",
    "plt.plot(traffic_data.index.values, traffic_data['Paid'].values, label='Paid Traffic')\n",
    "plt.plot(traffic_data.index.values, traffic_data['Organic'].values, label='Organic Traffic')\n",
    "plt.axvline(x=pd.to_datetime('2020-03-21'), color='r', linestyle='--', label='Intervention Date')\n",
    "plt.xlabel('Date')\n",
    "plt.ylabel('Number of Installs')\n",
    "plt.legend()\n",
    "plt.title('Paid and Organic Traffic Over Time')\n",
    "\n",
    "ax = plt.gca()\n",
    "ax.xaxis.set_major_locator(mdates.DayLocator(interval=3)) \n",
    "ax.xaxis.set_major_formatter(mdates.DateFormatter('%Y-%m-%d'))\n",
    "\n",
    "plt.xticks(rotation=45)  \n",
    "plt.tight_layout()\n",
    "plt.show()\n"
   ]
  }
 ],
 "metadata": {
  "kernelspec": {
   "display_name": "Python 3 (ipykernel)",
   "language": "python",
   "name": "python3"
  },
  "language_info": {
   "codemirror_mode": {
    "name": "ipython",
    "version": 3
   },
   "file_extension": ".py",
   "mimetype": "text/x-python",
   "name": "python",
   "nbconvert_exporter": "python",
   "pygments_lexer": "ipython3",
   "version": "3.8.19"
  }
 },
 "nbformat": 4,
 "nbformat_minor": 4
}
